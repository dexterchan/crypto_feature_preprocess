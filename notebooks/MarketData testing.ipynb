{
 "cells": [
  {
   "cell_type": "markdown",
   "id": "29eea858",
   "metadata": {},
   "source": [
    "### Get the market data"
   ]
  },
  {
   "cell_type": "code",
   "execution_count": 1,
   "id": "88de8b2b",
   "metadata": {},
   "outputs": [],
   "source": [
    "from cryptomarketdata.port.db_client import   get_data_db_client, Database_Type\n",
    "from cryptomarketdata.utility import resample_timeframe\n",
    "from datetime import datetime, timedelta\n",
    "import os"
   ]
  },
  {
   "cell_type": "code",
   "execution_count": 2,
   "id": "7a1a1c24",
   "metadata": {},
   "outputs": [
    {
     "name": "stdout",
     "output_type": "stream",
     "text": [
      "Working in directory:/Users/dexter/sandbox/algo_trading/interactive_analysis/notebooks\n"
     ]
    }
   ],
   "source": [
    "print(f\"Working in directory:{os.getcwd()}\")"
   ]
  },
  {
   "cell_type": "code",
   "execution_count": 3,
   "id": "a8114584",
   "metadata": {},
   "outputs": [],
   "source": [
    "local_data_dir = \"data\"\n",
    "test_exchange = \"kraken\"\n",
    "test_symbol = \"ETHUSD\"\n",
    "from_time_ms:int = int(datetime(2022,1,1).timestamp()*1000)\n",
    "to_time_ms:int = int(datetime(2023,3,1).timestamp()*1000)"
   ]
  },
  {
   "cell_type": "code",
   "execution_count": 4,
   "id": "8c4e34e7",
   "metadata": {},
   "outputs": [
    {
     "name": "stderr",
     "output_type": "stream",
     "text": [
      "2023-05-01 15:13:14,656 [INFO] Data stored in data (db_client.py:35)\n",
      "2023-05-01 15:13:14,657 [INFO] Use Parquet data set (db_client.py:41)\n",
      "2023-05-01 15:13:14,659 [INFO] Using local file system (parquet_database.py:55)\n",
      "2023-05-01 15:13:14,659 [INFO] Using local file system (parquet_database.py:55)\n"
     ]
    }
   ],
   "source": [
    "db_client = get_data_db_client(\n",
    "        exchange=test_exchange, database_type=Database_Type.PARQUET, data_directory=local_data_dir\n",
    "    )"
   ]
  },
  {
   "cell_type": "code",
   "execution_count": 5,
   "id": "537a1de8",
   "metadata": {},
   "outputs": [],
   "source": [
    "candles = db_client.get_candles(\n",
    "    symbol=test_symbol, from_time=from_time_ms, to_time=to_time_ms\n",
    ")"
   ]
  },
  {
   "cell_type": "code",
   "execution_count": 6,
   "id": "e6014dfa",
   "metadata": {},
   "outputs": [],
   "source": [
    "candles_15Min = resample_timeframe(data=candles, tf=\"15Min\")"
   ]
  }
 ],
 "metadata": {
  "kernelspec": {
   "display_name": "Python [conda env:interactive-analysis] *",
   "language": "python",
   "name": "conda-env-interactive-analysis-py"
  },
  "language_info": {
   "codemirror_mode": {
    "name": "ipython",
    "version": 3
   },
   "file_extension": ".py",
   "mimetype": "text/x-python",
   "name": "python",
   "nbconvert_exporter": "python",
   "pygments_lexer": "ipython3",
   "version": "3.9.16"
  }
 },
 "nbformat": 4,
 "nbformat_minor": 5
}
