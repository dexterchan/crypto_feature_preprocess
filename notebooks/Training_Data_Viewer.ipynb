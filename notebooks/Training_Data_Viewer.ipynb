{
 "cells": [
  {
   "cell_type": "code",
   "execution_count": 1,
   "id": "fce490b9",
   "metadata": {},
   "outputs": [],
   "source": [
    "import pandas as pd\n",
    "import pyarrow.dataset as pqds\n",
    "from pyarrow import fs\n",
    "import pyarrow as pa\n",
    "import math\n",
    "import os"
   ]
  },
  {
   "cell_type": "code",
   "execution_count": 2,
   "id": "0b8b058c",
   "metadata": {},
   "outputs": [
    {
     "data": {
      "text/plain": [
       "'/Users/dexter/sandbox/algo_trading/crypto_feature_preprocess/notebooks'"
      ]
     },
     "execution_count": 2,
     "metadata": {},
     "output_type": "execute_result"
    }
   ],
   "source": [
    "os.getcwd()"
   ]
  },
  {
   "cell_type": "code",
   "execution_count": 3,
   "id": "d57aeb0d",
   "metadata": {},
   "outputs": [
    {
     "name": "stdout",
     "output_type": "stream",
     "text": [
      "total data 83978\n"
     ]
    }
   ],
   "source": [
    "data_path = \"../data/output/training/kraken/ETHUSD/20230511/training\"\n",
    "# Read parquet file from data_path as pyarrown dateset\n",
    "dataset: pqds.dataset = pqds.dataset(\n",
    "            data_path,\n",
    "            format=\"parquet\"\n",
    "        )\n",
    "\n",
    "dt: pa.table = dataset.to_table()\n",
    "df: pd.DataFrame = dt.to_pandas()\n",
    "print(f\"total data {len(df)}\")"
   ]
  },
  {
   "cell_type": "code",
   "execution_count": 4,
   "id": "9be4a407",
   "metadata": {},
   "outputs": [
    {
     "data": {
      "text/plain": [
       "291"
      ]
     },
     "execution_count": 4,
     "metadata": {},
     "output_type": "execute_result"
    }
   ],
   "source": [
    "df[\"scenario\"].max()"
   ]
  },
  {
   "cell_type": "code",
   "execution_count": 7,
   "id": "ba64f69a",
   "metadata": {},
   "outputs": [
    {
     "data": {
      "text/plain": [
       "288.58419243986253"
      ]
     },
     "execution_count": 7,
     "metadata": {},
     "output_type": "execute_result"
    }
   ],
   "source": [
    "83978/291"
   ]
  },
  {
   "cell_type": "code",
   "execution_count": 5,
   "id": "bc31fb5d",
   "metadata": {},
   "outputs": [
    {
     "name": "stdout",
     "output_type": "stream",
     "text": [
      "total data 20942\n"
     ]
    }
   ],
   "source": [
    "data_path = \"../data/output/training/kraken/ETHUSD/20230511/eval\"\n",
    "# Read parquet file from data_path as pyarrown dateset\n",
    "dataset: pqds.dataset = pqds.dataset(\n",
    "            data_path,\n",
    "            format=\"parquet\"\n",
    "        )\n",
    "\n",
    "dt: pa.table = dataset.to_table()\n",
    "df: pd.DataFrame = dt.to_pandas()\n",
    "print(f\"total data {len(df)}\")"
   ]
  },
  {
   "cell_type": "code",
   "execution_count": 6,
   "id": "12c6e96c",
   "metadata": {},
   "outputs": [
    {
     "data": {
      "text/plain": [
       "72"
      ]
     },
     "execution_count": 6,
     "metadata": {},
     "output_type": "execute_result"
    }
   ],
   "source": [
    "df[\"scenario\"].max()"
   ]
  }
 ],
 "metadata": {
  "kernelspec": {
   "display_name": "Python [conda env:interactive-analysis]",
   "language": "python",
   "name": "conda-env-interactive-analysis-py"
  },
  "language_info": {
   "codemirror_mode": {
    "name": "ipython",
    "version": 3
   },
   "file_extension": ".py",
   "mimetype": "text/x-python",
   "name": "python",
   "nbconvert_exporter": "python",
   "pygments_lexer": "ipython3",
   "version": "3.9.16"
  }
 },
 "nbformat": 4,
 "nbformat_minor": 5
}
