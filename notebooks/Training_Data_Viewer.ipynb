{
 "cells": [
  {
   "cell_type": "code",
   "execution_count": null,
   "id": "fce490b9",
   "metadata": {},
   "outputs": [],
   "source": [
    "import pandas as pd\n",
    "import pyarrow.dataset as pqds\n",
    "from pyarrow import fs\n",
    "import pyarrow as pa\n",
    "import numpy as np\n",
    "import math\n",
    "import os"
   ]
  },
  {
   "cell_type": "code",
   "execution_count": null,
   "id": "0b8b058c",
   "metadata": {},
   "outputs": [],
   "source": [
    "os.getcwd()"
   ]
  },
  {
   "cell_type": "code",
   "execution_count": null,
   "id": "d57aeb0d",
   "metadata": {},
   "outputs": [],
   "source": [
    "data_path = \"/tmp/output/training\"\n",
    "# Read parquet file from data_path as pyarrown dateset\n",
    "dataset: pqds.dataset = pqds.dataset(\n",
    "            data_path,\n",
    "            format=\"parquet\"\n",
    "        )\n",
    "\n",
    "dt: pa.table = dataset.to_table()\n",
    "train_df: pd.DataFrame = dt.to_pandas()\n",
    "print(f\"total data {len(train_df)}\")"
   ]
  },
  {
   "cell_type": "code",
   "execution_count": null,
   "id": "9be4a407",
   "metadata": {},
   "outputs": [],
   "source": [
    "train_df[\"scenario\"].max()"
   ]
  },
  {
   "cell_type": "code",
   "execution_count": null,
   "id": "bc31fb5d",
   "metadata": {},
   "outputs": [],
   "source": [
    "data_path = \"/tmp/output/eval\"\n",
    "# Read parquet file from data_path as pyarrown dateset\n",
    "dataset: pqds.dataset = pqds.dataset(\n",
    "            data_path,\n",
    "            format=\"parquet\"\n",
    "        )\n",
    "\n",
    "dt: pa.table = dataset.to_table()\n",
    "eval_df: pd.DataFrame = dt.to_pandas()\n",
    "print(f\"total data {len(eval_df)}\")"
   ]
  },
  {
   "cell_type": "code",
   "execution_count": null,
   "id": "12c6e96c",
   "metadata": {},
   "outputs": [],
   "source": [
    "eval_df[\"scenario\"].max()"
   ]
  },
  {
   "cell_type": "markdown",
   "id": "18837007",
   "metadata": {},
   "source": [
    "Plot a training data"
   ]
  },
  {
   "cell_type": "code",
   "execution_count": null,
   "id": "71b98e55",
   "metadata": {},
   "outputs": [],
   "source": [
    "import random"
   ]
  },
  {
   "cell_type": "code",
   "execution_count": null,
   "id": "9ed17847",
   "metadata": {},
   "outputs": [],
   "source": [
    "pick_scenario = random.randint(0, train_df[\"scenario\"].max())"
   ]
  },
  {
   "cell_type": "code",
   "execution_count": null,
   "id": "d2928097",
   "metadata": {},
   "outputs": [],
   "source": [
    "pick_df = train_df[train_df[\"scenario\"]==pick_scenario]"
   ]
  },
  {
   "cell_type": "code",
   "execution_count": null,
   "id": "f6d39c4b",
   "metadata": {},
   "outputs": [],
   "source": [
    "pick_df"
   ]
  },
  {
   "cell_type": "code",
   "execution_count": null,
   "id": "d8532e00",
   "metadata": {},
   "outputs": [],
   "source": [
    "#PLotly graph with candlestick of pick_df\n",
    "pick_df[\"close\"].plot()"
   ]
  },
  {
   "cell_type": "code",
   "execution_count": null,
   "id": "9e0d0594",
   "metadata": {},
   "outputs": [],
   "source": [
    "import plotly.graph_objects as go\n",
    "figure = go.Figure(\n",
    "    data = [\n",
    "        go.Candlestick(\n",
    "            x = pick_df.index,\n",
    "            open = pick_df['open'],\n",
    "            high = pick_df['high'],\n",
    "            low = pick_df['low'],\n",
    "            close = pick_df['close']\n",
    "        )\n",
    "    ]\n",
    ")\n"
   ]
  },
  {
   "cell_type": "code",
   "execution_count": null,
   "id": "42e7955f",
   "metadata": {},
   "outputs": [],
   "source": [
    "import pathlib\n",
    "pathlib.Path(\"target\").mkdir(parents=True, exist_ok=True)\n",
    "figure.write_html('target/Candles_stick.html', auto_open=True)"
   ]
  },
  {
   "cell_type": "markdown",
   "id": "6902c10c",
   "metadata": {},
   "source": [
    "## Try generating features"
   ]
  },
  {
   "cell_type": "code",
   "execution_count": null,
   "id": "c51a391a",
   "metadata": {},
   "outputs": [],
   "source": [
    "from crypto_feature_preprocess.port.features import (\n",
    "    create_feature_from_close_price\n",
    ")\n",
    "from crypto_feature_preprocess.port.interfaces import (\n",
    "    Feature_Definition,\n",
    "    Feature_Enum, \n",
    "    Log_Price_Feature_Interface,\n",
    "    SMA_Cross_Feature_Interface,\n",
    "    RSI_Feature_Interface\n",
    ")"
   ]
  },
  {
   "cell_type": "code",
   "execution_count": null,
   "id": "10d149b4-7f91-45cb-83b9-57e22addc8b1",
   "metadata": {},
   "outputs": [],
   "source": [
    "LOG_PRICE_LOOKBACK:int = 10\n",
    "LOOK_BACK: int = 3\n",
    "#Build the feature spec\n",
    "feature_spec_pools = [\n",
    "    Feature_Definition(\n",
    "            meta={\"name\": Feature_Enum.LOG_PRICE},\n",
    "            data=Log_Price_Feature_Interface(dimension=LOG_PRICE_LOOKBACK),\n",
    "    ),\n",
    "    Feature_Definition(\n",
    "            meta={\"name\":Feature_Enum.SMA_CROSS},\n",
    "            data=SMA_Cross_Feature_Interface(dimension=LOOK_BACK, sma_window_1=20, sma_window_2=50)\n",
    "    ),\n",
    "    Feature_Definition(\n",
    "            meta={\"name\":Feature_Enum.RSI},\n",
    "            data=RSI_Feature_Interface(dimension=LOOK_BACK, rsi_window=14)\n",
    "    )\n",
    "]"
   ]
  },
  {
   "cell_type": "code",
   "execution_count": null,
   "id": "e2f7f8d3",
   "metadata": {},
   "outputs": [],
   "source": [
    "features, feature_breakdown = create_feature_from_close_price(ohlcv_candles=pick_df, feature_pools=feature_spec_pools)"
   ]
  },
  {
   "cell_type": "markdown",
   "id": "2c942c01-32dc-45c5-b6ba-1a34f373467c",
   "metadata": {},
   "source": [
    "## Log Price change"
   ]
  },
  {
   "cell_type": "code",
   "execution_count": null,
   "id": "ad23fff4",
   "metadata": {},
   "outputs": [],
   "source": [
    "#Plot histogram of log_price_change with 1000 bin and title with plotlib\n",
    "log_price_feature_segment = features[:,0:feature_breakdown[0]]\n",
    "pd.Series(log_price_feature_segment[:,0]).hist(bins=100).set_title(\"log_price_change\")"
   ]
  },
  {
   "cell_type": "markdown",
   "id": "abe8405b-ded2-46f7-ad0e-4a115a8c3539",
   "metadata": {},
   "source": [
    "## SMA feature"
   ]
  },
  {
   "cell_type": "code",
   "execution_count": null,
   "id": "21010abc-7ebc-4cc4-945e-a53ae07279ac",
   "metadata": {},
   "outputs": [],
   "source": [
    "from crypto_feature_preprocess.domains.indicators import calculate_simple_moving_average\n",
    "raw_sma_1 = calculate_simple_moving_average(pick_df[\"close\"], feature_spec_pools[1].data.sma_window_1)\n",
    "raw_sma_2 = calculate_simple_moving_average(pick_df[\"close\"], feature_spec_pools[1].data.sma_window_2)"
   ]
  },
  {
   "cell_type": "code",
   "execution_count": null,
   "id": "9c36abe2-1425-47ce-b408-1451d781032f",
   "metadata": {},
   "outputs": [],
   "source": [
    "def padding_zeros_left(arr:np.ndarray, dim:int)->np.ndarray:\n",
    "    \"\"\"\n",
    "    padding zeros to the left of the array to make the array length equal to dim\n",
    "    \"\"\"\n",
    "    arr_len = len(arr)\n",
    "    if arr_len == dim:\n",
    "        return arr\n",
    "    elif dim-arr_len > 0 :\n",
    "        return np.pad(arr, pad_width=(dim-arr_len, 0))\n",
    "    else:\n",
    "        return arr"
   ]
  },
  {
   "cell_type": "code",
   "execution_count": null,
   "id": "b32b6783-0cdc-44f5-9ebe-31eaec340b89",
   "metadata": {},
   "outputs": [],
   "source": [
    "sma_cross_feature_segment = features[:, feature_breakdown[0]:feature_breakdown[1]]"
   ]
  },
  {
   "cell_type": "code",
   "execution_count": null,
   "id": "14ebd33c-0860-4891-8784-0e33583a2d72",
   "metadata": {},
   "outputs": [],
   "source": [
    "candles = pick_df.copy()"
   ]
  },
  {
   "cell_type": "code",
   "execution_count": null,
   "id": "323e7359-40a5-463b-a49e-3ac750cdf382",
   "metadata": {},
   "outputs": [],
   "source": [
    "# populate feature for visualization\n",
    "candles[\"sma1\"] = padding_zeros_left(raw_sma_1, len(candles))\n",
    "candles[\"sma2\"] = padding_zeros_left(raw_sma_2, len(candles))\n",
    "candles[\"cross\"] = padding_zeros_left(sma_cross_feature_segment[:,0], len(candles))\n",
    "candles[\"cross-1\"] = padding_zeros_left(sma_cross_feature_segment[:,1], len(candles))\n",
    "candles[\"cross-2\"] = padding_zeros_left(sma_cross_feature_segment[:,2], len(candles))"
   ]
  },
  {
   "cell_type": "code",
   "execution_count": null,
   "id": "46fb0d9b-538d-46f1-8671-9acd9d004f1e",
   "metadata": {},
   "outputs": [],
   "source": [
    "import plotly.graph_objects as go\n",
    "\n",
    "fig = go.Figure()\n",
    "fig.add_trace(go.Scatter(x=candles.index, y=candles[\"close\"], name=\"close\", mode=\"lines\"))\n",
    "fig.add_trace(go.Scatter(x=candles.index, y=candles[\"sma1\"], name=\"sma_1\", mode=\"lines\", line_dash=\"dot\"))\n",
    "fig.add_trace(go.Scatter(x=candles.index, y=candles[\"sma2\"], name=\"sma_2\", mode=\"lines\", line_dash=\"dash\"))\n",
    "\n",
    "#mark red x for candles[\"cross\"] == True\n",
    "cross_indices = np.where(candles[\"cross\"] == True)[0]\n",
    "fig.add_trace(go.Scatter(x=candles.index[cross_indices], y=candles[\"close\"][cross_indices], name=\"sma_cross\", mode=\"markers\", marker=dict(color=\"red\", symbol=\"x\")))\n",
    "\n",
    "#mark blue x for candles[\"cross-1\"] == True\n",
    "cross_indices = np.where(candles[\"cross-1\"] == True)[0]\n",
    "fig.add_trace(go.Scatter(x=candles.index[cross_indices], y=candles[\"close\"][cross_indices], name=\"sma_cross-1\", mode=\"markers\", marker=dict(color=\"blue\", symbol=\"x\")))\n",
    "\n",
    "#mark brown x for candles[\"cross-2\"] == True\n",
    "cross_indices = np.where(candles[\"cross-2\"] == True)[0]\n",
    "fig.add_trace(go.Scatter(x=candles.index[cross_indices], y=candles[\"close\"][cross_indices], name=\"sma_cross-2\", mode=\"markers\", marker=dict(color=\"brown\", symbol=\"x\")))\n",
    "\n",
    "fig.show()"
   ]
  },
  {
   "cell_type": "markdown",
   "id": "e714c197-52d2-49ec-ba62-c881588562ee",
   "metadata": {},
   "source": [
    "## RSI"
   ]
  },
  {
   "cell_type": "code",
   "execution_count": null,
   "id": "447252d6-405a-4957-8dca-beac17bfe91b",
   "metadata": {},
   "outputs": [],
   "source": [
    "import talib\n",
    "rsi_talib = talib.RSI(pick_df[\"close\"], timeperiod=14)"
   ]
  },
  {
   "cell_type": "code",
   "execution_count": null,
   "id": "ac9ec9ad-76c2-4677-a13f-f7ee5b77477c",
   "metadata": {},
   "outputs": [],
   "source": [
    "rsi_feature_segment = features[:, feature_breakdown[1]:]"
   ]
  },
  {
   "cell_type": "code",
   "execution_count": null,
   "id": "087abe19-245e-4e22-b54c-29ddafaff6c1",
   "metadata": {},
   "outputs": [],
   "source": [
    "candles = pick_df.copy()"
   ]
  },
  {
   "cell_type": "code",
   "execution_count": null,
   "id": "36a43cee-a3bc-461b-a71e-c64d8aa3bdd0",
   "metadata": {},
   "outputs": [],
   "source": [
    "candles[\"rsi_talib\"] = padding_zeros_left(rsi_talib, len(candles))\n",
    "candles[\"rsi_feature\"] = padding_zeros_left(rsi_feature_segment[:,0], len(candles))"
   ]
  },
  {
   "cell_type": "code",
   "execution_count": null,
   "id": "a4c4f3c0-0bf7-4ed9-ba97-80acfcf03fe0",
   "metadata": {},
   "outputs": [],
   "source": [
    "candles['rsi_talib'].corr(candles['rsi_feature'])"
   ]
  }
 ],
 "metadata": {
  "kernelspec": {
   "display_name": "Python [conda env:test] *",
   "language": "python",
   "name": "conda-env-test-py"
  },
  "language_info": {
   "codemirror_mode": {
    "name": "ipython",
    "version": 3
   },
   "file_extension": ".py",
   "mimetype": "text/x-python",
   "name": "python",
   "nbconvert_exporter": "python",
   "pygments_lexer": "ipython3",
   "version": "3.9.16"
  }
 },
 "nbformat": 4,
 "nbformat_minor": 5
}
