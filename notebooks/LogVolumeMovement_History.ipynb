{
 "cells": [
  {
   "cell_type": "code",
   "execution_count": 1,
   "id": "f2b89b1b",
   "metadata": {},
   "outputs": [],
   "source": [
    "import pandas as pd\n",
    "import pyarrow.dataset as pqds\n",
    "from pyarrow import fs\n",
    "import pyarrow as pa\n",
    "import math\n",
    "import os"
   ]
  },
  {
   "cell_type": "code",
   "execution_count": 2,
   "id": "e10037d2-6ea2-436d-a896-29c71ce72c00",
   "metadata": {},
   "outputs": [
    {
     "data": {
      "text/plain": [
       "'/Users/dexter/sandbox/algo_trading/crypto_feature_preprocess/notebooks'"
      ]
     },
     "execution_count": 2,
     "metadata": {},
     "output_type": "execute_result"
    }
   ],
   "source": [
    "os.getcwd()"
   ]
  },
  {
   "cell_type": "code",
   "execution_count": 3,
   "id": "0eee2264",
   "metadata": {},
   "outputs": [],
   "source": [
    "data_path = \"../../crypto_market_data/data/kraken.ETHUSD\"\n",
    "data_set_index = \"dsindex\"\n",
    "begin_partition:int = 202201\n",
    "end_partition:int = 202303\n",
    "# Read parquet file from data_path as pyarrown dateset\n",
    "dataset: pqds.dataset = pqds.dataset(\n",
    "            data_path,\n",
    "            format=\"parquet\",\n",
    "            partitioning=\"hive\",\n",
    "            filesystem=fs.LocalFileSystem(),\n",
    "        )\n",
    "\n",
    "criteria = (pqds.field(data_set_index) >= begin_partition) & (\n",
    "            pqds.field(data_set_index) <= end_partition\n",
    "        )\n",
    "dt: pa.table = dataset.to_table(filter=criteria)\n",
    "df: pd.DataFrame = dt.to_pandas()\n",
    "#Make column timestamp as pandas datetime index\n",
    "df.set_index(\"timestamp\", inplace=True)\n",
    "#convert timestamp ms to datetime\n",
    "df.index = pd.to_datetime(df.index, unit=\"ms\")\n",
    "# Resample candlestick to 60 minutes in length\n",
    "df = df.resample(\"15Min\").agg({\"open\": \"first\", \"high\": \"max\", \"low\": \"min\", \"close\": \"last\", \"volume\": \"sum\"})\n",
    "# Remove any rows with NaN values\n",
    "df.dropna(inplace=True)"
   ]
  },
  {
   "cell_type": "code",
   "execution_count": 4,
   "id": "a109684d",
   "metadata": {},
   "outputs": [
    {
     "data": {
      "text/html": [
       "<div>\n",
       "<style scoped>\n",
       "    .dataframe tbody tr th:only-of-type {\n",
       "        vertical-align: middle;\n",
       "    }\n",
       "\n",
       "    .dataframe tbody tr th {\n",
       "        vertical-align: top;\n",
       "    }\n",
       "\n",
       "    .dataframe thead th {\n",
       "        text-align: right;\n",
       "    }\n",
       "</style>\n",
       "<table border=\"1\" class=\"dataframe\">\n",
       "  <thead>\n",
       "    <tr style=\"text-align: right;\">\n",
       "      <th></th>\n",
       "      <th>open</th>\n",
       "      <th>high</th>\n",
       "      <th>low</th>\n",
       "      <th>close</th>\n",
       "      <th>volume</th>\n",
       "    </tr>\n",
       "    <tr>\n",
       "      <th>timestamp</th>\n",
       "      <th></th>\n",
       "      <th></th>\n",
       "      <th></th>\n",
       "      <th></th>\n",
       "      <th></th>\n",
       "    </tr>\n",
       "  </thead>\n",
       "  <tbody>\n",
       "    <tr>\n",
       "      <th>2022-01-01 00:00:00</th>\n",
       "      <td>3675.95</td>\n",
       "      <td>3702.03</td>\n",
       "      <td>3675.95</td>\n",
       "      <td>3692.80</td>\n",
       "      <td>217.362166</td>\n",
       "    </tr>\n",
       "    <tr>\n",
       "      <th>2022-01-01 00:15:00</th>\n",
       "      <td>3690.98</td>\n",
       "      <td>3698.61</td>\n",
       "      <td>3685.18</td>\n",
       "      <td>3695.60</td>\n",
       "      <td>146.046925</td>\n",
       "    </tr>\n",
       "    <tr>\n",
       "      <th>2022-01-01 00:30:00</th>\n",
       "      <td>3696.68</td>\n",
       "      <td>3713.95</td>\n",
       "      <td>3696.01</td>\n",
       "      <td>3713.95</td>\n",
       "      <td>56.123719</td>\n",
       "    </tr>\n",
       "    <tr>\n",
       "      <th>2022-01-01 00:45:00</th>\n",
       "      <td>3713.62</td>\n",
       "      <td>3725.00</td>\n",
       "      <td>3713.62</td>\n",
       "      <td>3723.33</td>\n",
       "      <td>138.238059</td>\n",
       "    </tr>\n",
       "    <tr>\n",
       "      <th>2022-01-01 01:00:00</th>\n",
       "      <td>3722.79</td>\n",
       "      <td>3725.00</td>\n",
       "      <td>3714.73</td>\n",
       "      <td>3725.00</td>\n",
       "      <td>196.826344</td>\n",
       "    </tr>\n",
       "  </tbody>\n",
       "</table>\n",
       "</div>"
      ],
      "text/plain": [
       "                        open     high      low    close      volume\n",
       "timestamp                                                          \n",
       "2022-01-01 00:00:00  3675.95  3702.03  3675.95  3692.80  217.362166\n",
       "2022-01-01 00:15:00  3690.98  3698.61  3685.18  3695.60  146.046925\n",
       "2022-01-01 00:30:00  3696.68  3713.95  3696.01  3713.95   56.123719\n",
       "2022-01-01 00:45:00  3713.62  3725.00  3713.62  3723.33  138.238059\n",
       "2022-01-01 01:00:00  3722.79  3725.00  3714.73  3725.00  196.826344"
      ]
     },
     "execution_count": 4,
     "metadata": {},
     "output_type": "execute_result"
    }
   ],
   "source": [
    "df.head()"
   ]
  },
  {
   "cell_type": "code",
   "execution_count": 5,
   "id": "724d031e",
   "metadata": {},
   "outputs": [],
   "source": [
    "# Shift the close price to the prev row\n",
    "df[\"prev_volume\"] = df[\"volume\"].shift(1)\n",
    "df[\"volume_change\"] = df[\"volume\"] / df[\"prev_volume\"]\n",
    "# calcualte log of price_change column\n",
    "df[\"log_volume_change\"] = df[\"volume_change\"].apply(lambda x: math.log(x))\n"
   ]
  },
  {
   "cell_type": "code",
   "execution_count": 6,
   "id": "2823597d",
   "metadata": {},
   "outputs": [],
   "source": [
    "from crypto_feature_preprocess.domains.indicators import calculate_log_price_change\n",
    "log_vol_change = calculate_log_price_change(df[\"volume\"])\n",
    "df[\"log_volume_change2\"] = log_vol_change\n"
   ]
  },
  {
   "cell_type": "code",
   "execution_count": 7,
   "id": "a52f6a41",
   "metadata": {},
   "outputs": [
    {
     "data": {
      "text/html": [
       "<div>\n",
       "<style scoped>\n",
       "    .dataframe tbody tr th:only-of-type {\n",
       "        vertical-align: middle;\n",
       "    }\n",
       "\n",
       "    .dataframe tbody tr th {\n",
       "        vertical-align: top;\n",
       "    }\n",
       "\n",
       "    .dataframe thead th {\n",
       "        text-align: right;\n",
       "    }\n",
       "</style>\n",
       "<table border=\"1\" class=\"dataframe\">\n",
       "  <thead>\n",
       "    <tr style=\"text-align: right;\">\n",
       "      <th></th>\n",
       "      <th>open</th>\n",
       "      <th>high</th>\n",
       "      <th>low</th>\n",
       "      <th>close</th>\n",
       "      <th>volume</th>\n",
       "      <th>prev_volume</th>\n",
       "      <th>volume_change</th>\n",
       "      <th>log_volume_change</th>\n",
       "      <th>log_volume_change2</th>\n",
       "    </tr>\n",
       "    <tr>\n",
       "      <th>timestamp</th>\n",
       "      <th></th>\n",
       "      <th></th>\n",
       "      <th></th>\n",
       "      <th></th>\n",
       "      <th></th>\n",
       "      <th></th>\n",
       "      <th></th>\n",
       "      <th></th>\n",
       "      <th></th>\n",
       "    </tr>\n",
       "  </thead>\n",
       "  <tbody>\n",
       "  </tbody>\n",
       "</table>\n",
       "</div>"
      ],
      "text/plain": [
       "Empty DataFrame\n",
       "Columns: [open, high, low, close, volume, prev_volume, volume_change, log_volume_change, log_volume_change2]\n",
       "Index: []"
      ]
     },
     "execution_count": 7,
     "metadata": {},
     "output_type": "execute_result"
    }
   ],
   "source": [
    "# Check if the log volume is consistent\n",
    "df = df.iloc[1:]\n",
    "c = (df[\"log_volume_change\"] - df[\"log_volume_change2\"] < 0.00001)\n",
    "#show any c = False\n",
    "df[~c]"
   ]
  },
  {
   "cell_type": "code",
   "execution_count": 8,
   "id": "f88cf1fa",
   "metadata": {},
   "outputs": [
    {
     "data": {
      "text/plain": [
       "Text(0.5, 1.0, 'log_volume_change')"
      ]
     },
     "execution_count": 8,
     "metadata": {},
     "output_type": "execute_result"
    },
    {
     "data": {
      "image/png": "[encoded data removed]",
      "text/plain": [
       "<Figure size 640x480 with 1 Axes>"
      ]
     },
     "metadata": {},
     "output_type": "display_data"
    }
   ],
   "source": [
    "#Plot histogram of log_price_change with 1000 bin and title with plotlib\n",
    "df[\"log_volume_change\"].hist(bins=100).set_title(\"log_volume_change\")"
   ]
  },
  {
   "cell_type": "code",
   "execution_count": 9,
   "id": "b993fecf",
   "metadata": {},
   "outputs": [
    {
     "data": {
      "text/plain": [
       "Text(0.5, 1.0, 'log_volume_change')"
      ]
     },
     "execution_count": 9,
     "metadata": {},
     "output_type": "execute_result"
    },
    {
     "data": {
      "image/png": "[encoded data removed]",
      "text/plain": [
       "<Figure size 640x480 with 1 Axes>"
      ]
     },
     "metadata": {},
     "output_type": "display_data"
    }
   ],
   "source": [
    "# Plot histogram of log_price_change with 1000 bin and fall under 99% percentile and title with plotlib\n",
    "df[\"log_volume_change\"].hist(bins=100, range=(df[\"log_volume_change\"].quantile(0.0001), df[\"log_volume_change\"].quantile(0.9999))).set_title(\"log_volume_change\")"
   ]
  },
  {
   "cell_type": "code",
   "execution_count": 10,
   "id": "eb6cbcd2",
   "metadata": {},
   "outputs": [],
   "source": [
    "from crypto_feature_preprocess.domains.features_gen import Log_Price_Feature\n",
    "log_vol_feature = Log_Price_Feature(df[\"volume\"], 5, 5)\n",
    "log_vol_feature_value = log_vol_feature.output_feature_array(normalize=True)"
   ]
  },
  {
   "cell_type": "code",
   "execution_count": 11,
   "id": "b4aeffb0",
   "metadata": {},
   "outputs": [
    {
     "data": {
      "text/plain": [
       "Text(0.5, 1.0, 'log_volume_feature_value')"
      ]
     },
     "execution_count": 11,
     "metadata": {},
     "output_type": "execute_result"
    },
    {
     "data": {
      "image/png": "[encoded data removed]",
      "text/plain": [
       "<Figure size 640x480 with 1 Axes>"
      ]
     },
     "metadata": {},
     "output_type": "display_data"
    }
   ],
   "source": [
    "log_vol_feature_value[:,0]\n",
    "#Plot the histogram of log_price_feature_value with 1000 bin and fall under 99% percentile and title with plotlib\n",
    "pd.Series(log_vol_feature_value[:,0]).hist(bins=100, range=(pd.Series(log_vol_feature_value[:,0]).quantile(0.0001), pd.Series(log_vol_feature_value[:,0]).quantile(0.9999))).set_title(\"log_volume_feature_value\")"
   ]
  }
 ],
 "metadata": {
  "kernelspec": {
   "display_name": "Python [conda env:crypto-feature-preprocess] *",
   "language": "python",
   "name": "conda-env-crypto-feature-preprocess-py"
  },
  "language_info": {
   "codemirror_mode": {
    "name": "ipython",
    "version": 3
   },
   "file_extension": ".py",
   "mimetype": "text/x-python",
   "name": "python",
   "nbconvert_exporter": "python",
   "pygments_lexer": "ipython3",
   "version": "3.9.16"
  }
 },
 "nbformat": 4,
 "nbformat_minor": 5
}
