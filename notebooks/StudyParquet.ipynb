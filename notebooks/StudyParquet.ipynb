{
 "cells": [
  {
   "cell_type": "code",
   "execution_count": 5,
   "id": "4b2bcf69-53f8-40a5-9d81-7d0eea42a3b9",
   "metadata": {},
   "outputs": [],
   "source": [
    "import pandas as pd\n",
    "import pyarrow.dataset as pqds\n",
    "from pyarrow import fs\n",
    "import pyarrow as pa\n",
    "import numpy as np\n",
    "import math\n",
    "import os\n",
    "from datetime import datetime"
   ]
  },
  {
   "cell_type": "code",
   "execution_count": 2,
   "id": "8e99e452-dbfd-429b-bd39-89a50417c1c5",
   "metadata": {},
   "outputs": [],
   "source": [
    "data_path = \"/tmp/output/training\"\n",
    "# Read parquet file from data_path as pyarrown dateset\n",
    "dataset: pqds.dataset = pqds.dataset(\n",
    "            data_path,\n",
    "            format=\"parquet\"\n",
    "        )"
   ]
  },
  {
   "cell_type": "code",
   "execution_count": 3,
   "id": "1976c49c-1f90-4db3-afc3-2134ec4288c6",
   "metadata": {},
   "outputs": [
    {
     "data": {
      "text/plain": [
       "open: double\n",
       "high: double\n",
       "low: double\n",
       "close: double\n",
       "volume: double\n",
       "scenario: int64\n",
       "__index_level_0__: timestamp[us]\n",
       "-- schema metadata --\n",
       "pandas: '{\"index_columns\": [\"__index_level_0__\"], \"column_indexes\": [{\"na' + 1003"
      ]
     },
     "execution_count": 3,
     "metadata": {},
     "output_type": "execute_result"
    }
   ],
   "source": [
    "dataset.schema"
   ]
  },
  {
   "cell_type": "code",
   "execution_count": 20,
   "id": "e6f80a54-d71b-4728-bce6-eb4407aae388",
   "metadata": {},
   "outputs": [],
   "source": [
    "index_name = \"__index_level_0__\""
   ]
  },
  {
   "cell_type": "code",
   "execution_count": 27,
   "id": "09093de7-01d9-4527-bcaa-2d9057eede05",
   "metadata": {},
   "outputs": [],
   "source": [
    "begin_time_us = pa.scalar(datetime(2022,11,12))\n",
    "end_time_us = pa.scalar(datetime(2022,11,13))"
   ]
  },
  {
   "cell_type": "code",
   "execution_count": 28,
   "id": "53a2f459-6b8c-4ad5-a50d-7e1096c76408",
   "metadata": {},
   "outputs": [],
   "source": [
    "criteria = (pqds.field(index_name) >= begin_time_us) & (\n",
    "            pqds.field(index_name) <= end_time_us\n",
    "        )"
   ]
  },
  {
   "cell_type": "code",
   "execution_count": 29,
   "id": "530fa4d2-b2c3-4dbd-9670-c5db7a822d95",
   "metadata": {},
   "outputs": [],
   "source": [
    "table: pa.table = dataset.to_table(filter=criteria)"
   ]
  },
  {
   "cell_type": "code",
   "execution_count": 30,
   "id": "190a7959-406e-4798-a741-8c843c056bc4",
   "metadata": {},
   "outputs": [
    {
     "data": {
      "text/html": [
       "<div>\n",
       "<style scoped>\n",
       "    .dataframe tbody tr th:only-of-type {\n",
       "        vertical-align: middle;\n",
       "    }\n",
       "\n",
       "    .dataframe tbody tr th {\n",
       "        vertical-align: top;\n",
       "    }\n",
       "\n",
       "    .dataframe thead th {\n",
       "        text-align: right;\n",
       "    }\n",
       "</style>\n",
       "<table border=\"1\" class=\"dataframe\">\n",
       "  <thead>\n",
       "    <tr style=\"text-align: right;\">\n",
       "      <th></th>\n",
       "      <th>open</th>\n",
       "      <th>high</th>\n",
       "      <th>low</th>\n",
       "      <th>close</th>\n",
       "      <th>volume</th>\n",
       "      <th>scenario</th>\n",
       "    </tr>\n",
       "  </thead>\n",
       "  <tbody>\n",
       "    <tr>\n",
       "      <th>2022-11-12 00:00:00</th>\n",
       "      <td>1285.58</td>\n",
       "      <td>1288.76</td>\n",
       "      <td>1279.88</td>\n",
       "      <td>1280.67</td>\n",
       "      <td>110.943522</td>\n",
       "      <td>32</td>\n",
       "    </tr>\n",
       "    <tr>\n",
       "      <th>2022-11-12 00:15:00</th>\n",
       "      <td>1280.45</td>\n",
       "      <td>1280.45</td>\n",
       "      <td>1272.22</td>\n",
       "      <td>1273.52</td>\n",
       "      <td>494.951684</td>\n",
       "      <td>32</td>\n",
       "    </tr>\n",
       "    <tr>\n",
       "      <th>2022-11-12 00:30:00</th>\n",
       "      <td>1273.68</td>\n",
       "      <td>1274.91</td>\n",
       "      <td>1267.75</td>\n",
       "      <td>1268.78</td>\n",
       "      <td>189.501889</td>\n",
       "      <td>32</td>\n",
       "    </tr>\n",
       "    <tr>\n",
       "      <th>2022-11-12 00:45:00</th>\n",
       "      <td>1268.90</td>\n",
       "      <td>1272.39</td>\n",
       "      <td>1266.80</td>\n",
       "      <td>1271.99</td>\n",
       "      <td>92.095408</td>\n",
       "      <td>32</td>\n",
       "    </tr>\n",
       "    <tr>\n",
       "      <th>2022-11-12 01:00:00</th>\n",
       "      <td>1272.05</td>\n",
       "      <td>1272.67</td>\n",
       "      <td>1267.88</td>\n",
       "      <td>1268.60</td>\n",
       "      <td>1730.034320</td>\n",
       "      <td>32</td>\n",
       "    </tr>\n",
       "    <tr>\n",
       "      <th>...</th>\n",
       "      <td>...</td>\n",
       "      <td>...</td>\n",
       "      <td>...</td>\n",
       "      <td>...</td>\n",
       "      <td>...</td>\n",
       "      <td>...</td>\n",
       "    </tr>\n",
       "    <tr>\n",
       "      <th>2022-11-12 15:00:00</th>\n",
       "      <td>1274.32</td>\n",
       "      <td>1279.52</td>\n",
       "      <td>1270.87</td>\n",
       "      <td>1278.34</td>\n",
       "      <td>576.424186</td>\n",
       "      <td>184</td>\n",
       "    </tr>\n",
       "    <tr>\n",
       "      <th>2022-11-12 15:15:00</th>\n",
       "      <td>1278.11</td>\n",
       "      <td>1278.12</td>\n",
       "      <td>1272.34</td>\n",
       "      <td>1272.34</td>\n",
       "      <td>35.511732</td>\n",
       "      <td>184</td>\n",
       "    </tr>\n",
       "    <tr>\n",
       "      <th>2022-11-12 15:30:00</th>\n",
       "      <td>1272.28</td>\n",
       "      <td>1273.08</td>\n",
       "      <td>1269.00</td>\n",
       "      <td>1271.45</td>\n",
       "      <td>49.907125</td>\n",
       "      <td>184</td>\n",
       "    </tr>\n",
       "    <tr>\n",
       "      <th>2022-11-12 15:45:00</th>\n",
       "      <td>1271.14</td>\n",
       "      <td>1273.45</td>\n",
       "      <td>1270.48</td>\n",
       "      <td>1271.86</td>\n",
       "      <td>31.718619</td>\n",
       "      <td>184</td>\n",
       "    </tr>\n",
       "    <tr>\n",
       "      <th>2022-11-12 16:00:00</th>\n",
       "      <td>1272.12</td>\n",
       "      <td>1273.10</td>\n",
       "      <td>1272.12</td>\n",
       "      <td>1272.80</td>\n",
       "      <td>1.328605</td>\n",
       "      <td>184</td>\n",
       "    </tr>\n",
       "  </tbody>\n",
       "</table>\n",
       "<p>292 rows × 6 columns</p>\n",
       "</div>"
      ],
      "text/plain": [
       "                        open     high      low    close       volume  scenario\n",
       "2022-11-12 00:00:00  1285.58  1288.76  1279.88  1280.67   110.943522        32\n",
       "2022-11-12 00:15:00  1280.45  1280.45  1272.22  1273.52   494.951684        32\n",
       "2022-11-12 00:30:00  1273.68  1274.91  1267.75  1268.78   189.501889        32\n",
       "2022-11-12 00:45:00  1268.90  1272.39  1266.80  1271.99    92.095408        32\n",
       "2022-11-12 01:00:00  1272.05  1272.67  1267.88  1268.60  1730.034320        32\n",
       "...                      ...      ...      ...      ...          ...       ...\n",
       "2022-11-12 15:00:00  1274.32  1279.52  1270.87  1278.34   576.424186       184\n",
       "2022-11-12 15:15:00  1278.11  1278.12  1272.34  1272.34    35.511732       184\n",
       "2022-11-12 15:30:00  1272.28  1273.08  1269.00  1271.45    49.907125       184\n",
       "2022-11-12 15:45:00  1271.14  1273.45  1270.48  1271.86    31.718619       184\n",
       "2022-11-12 16:00:00  1272.12  1273.10  1272.12  1272.80     1.328605       184\n",
       "\n",
       "[292 rows x 6 columns]"
      ]
     },
     "execution_count": 30,
     "metadata": {},
     "output_type": "execute_result"
    }
   ],
   "source": [
    "table.to_pandas()"
   ]
  }
 ],
 "metadata": {
  "kernelspec": {
   "display_name": "Python [conda env:crypto-feature-preprocess] *",
   "language": "python",
   "name": "conda-env-crypto-feature-preprocess-py"
  },
  "language_info": {
   "codemirror_mode": {
    "name": "ipython",
    "version": 3
   },
   "file_extension": ".py",
   "mimetype": "text/x-python",
   "name": "python",
   "nbconvert_exporter": "python",
   "pygments_lexer": "ipython3",
   "version": "3.9.16"
  }
 },
 "nbformat": 4,
 "nbformat_minor": 5
}
